{
 "cells": [
  {
   "cell_type": "code",
   "execution_count": 1,
   "metadata": {},
   "outputs": [],
   "source": [
    "import numpy as np\n",
    "import pesfit as pf\n",
    "from silx.io.dictdump import dicttoh5, h5todict\n",
    "import matplotlib.pyplot as plt\n",
    "import lmfit.models as lmm\n",
    "from tqdm import notebook as nb\n",
    "from numba import njit, prange\n",
    "# import ray"
   ]
  },
  {
   "cell_type": "code",
   "execution_count": 2,
   "metadata": {},
   "outputs": [],
   "source": [
    "bpatch = np.zeros((2, 30, 30))\n",
    "spatch = np.zeros((2, 30, 30))\n",
    "gpatch = np.zeros((2, 30, 30))\n",
    "\n",
    "# Initialize the model\n",
    "mdl = pf.fitter.model_generator(peaks={'Voigt':2}, background='None')\n",
    "pars = mdl.make_params()\n",
    "\n",
    "vardict = [{'lp1_':{'amplitude':dict(value=0.2, min=0, max=2, vary=True),\n",
    "                  'sigma':dict(value=0.1, min=0.05, max=2, vary=False),\n",
    "                  'gamma':dict(value=0.02, min=0, max=2, vary=True)}},\n",
    "           \n",
    "           {'lp2_':{'amplitude':dict(value=0.2, min=0, max=2, vary=True),\n",
    "                   'sigma':dict(value=0.1, min=0.05, max=2, vary=False),\n",
    "                   'gamma':dict(value=0.02, min=0, max=2, vary=True)}}]\n",
    "\n",
    "pf.fitter.varsetter(pars, vardict, ret=False)"
   ]
  },
  {
   "cell_type": "code",
   "execution_count": 47,
   "metadata": {},
   "outputs": [],
   "source": [
    "# pars"
   ]
  },
  {
   "cell_type": "code",
   "execution_count": 3,
   "metadata": {},
   "outputs": [
    {
     "data": {
      "text/plain": [
       "(14, 30, 30)"
      ]
     },
     "execution_count": 3,
     "metadata": {},
     "output_type": "execute_result"
    }
   ],
   "source": [
    "krec = h5todict(r'E:\\Momentoscope\\WSe2\\krec_lda_kpoint.h5')['recon']\n",
    "krec.shape"
   ]
  },
  {
   "cell_type": "markdown",
   "metadata": {},
   "source": [
    "## Fitting of a patch of photoemission spectra (patch fitting)"
   ]
  },
  {
   "cell_type": "code",
   "execution_count": 4,
   "metadata": {},
   "outputs": [],
   "source": [
    "fdata = h5todict(r'...\\WSe2\\kpoint\\kpoint_symmetrized.h5')\n",
    "Es = fdata['E'][20:100]\n",
    "eofs = 0.015 # Energy offset\n",
    "sfts = np.arange(-0.08, 0.09, 0.01) # Choices of random shifts"
   ]
  },
  {
   "cell_type": "markdown",
   "metadata": {},
   "source": [
    "### Serial patch fitting"
   ]
  },
  {
   "cell_type": "code",
   "execution_count": null,
   "metadata": {
    "scrolled": false
   },
   "outputs": [],
   "source": [
    "for r in range(30):\n",
    "#     print(r)\n",
    "    for c in range(30):\n",
    "\n",
    "        row_id, col_id = r, c\n",
    "\n",
    "        # Update the band position estimates (corresponding to the centers of the lineshape components)\n",
    "        centerdict = [{'lp1_':{'center':dict(value=krec[0,row_id,col_id]+eofs, vary=True)}},\n",
    "                      {'lp2_':{'center':dict(value=krec[1,row_id,col_id]+eofs, vary=True)}}]\n",
    "\n",
    "        pf.fitter.varsetter(pars, centerdict, ret=False)\n",
    "        y = fdata['V'][row_id, col_id, 20:100]\n",
    "        fit_result = mdl.fit(y/y.max(), pars, x=Es)\n",
    "\n",
    "        # Add random shift to the initialization to produce better fits\n",
    "        out = pf.fitter.random_varshift(fit_result, model=mdl, params=pars, yvals=y, xvals=Es, shifts=sfts)\n",
    "        comps = out.eval_components(x=Es)\n",
    "\n",
    "        bpatch[0,r,c] = out.params['lp1_center'].value\n",
    "        bpatch[1,r,c] = out.params['lp2_center'].value\n",
    "\n",
    "        spatch[0,r,c] = out.params['lp1_sigma'].value\n",
    "        spatch[1,r,c] = out.params['lp2_sigma'].value\n",
    "\n",
    "        gpatch[0,r,c] = out.params['lp1_gamma'].value\n",
    "        gpatch[1,r,c] = out.params['lp2_gamma'].value"
   ]
  },
  {
   "cell_type": "code",
   "execution_count": 53,
   "metadata": {},
   "outputs": [
    {
     "data": {
      "text/plain": [
       "<matplotlib.image.AxesImage at 0x285325e24e0>"
      ]
     },
     "execution_count": 53,
     "metadata": {},
     "output_type": "execute_result"
    },
    {
     "data": {
      "image/png": "[encoded data removed]",
      "text/plain": [
       "<Figure size 432x288 with 1 Axes>"
      ]
     },
     "metadata": {},
     "output_type": "display_data"
    }
   ],
   "source": [
    "plt.imshow(bpatch[1,...])"
   ]
  },
  {
   "cell_type": "markdown",
   "metadata": {},
   "source": [
    "### Parallel patch fitting"
   ]
  },
  {
   "cell_type": "code",
   "execution_count": null,
   "metadata": {},
   "outputs": [],
   "source": [
    "vardict = [{'lp1_':{'amplitude':dict(value=0.2, min=0, max=2, vary=True),\n",
    "                  'sigma':dict(value=0.1, min=0.05, max=2, vary=False),\n",
    "                  'gamma':dict(value=0.02, min=0, max=2, vary=True)}},\n",
    "           \n",
    "           {'lp2_':{'amplitude':dict(value=0.2, min=0, max=2, vary=True),\n",
    "                   'sigma':dict(value=0.1, min=0.05, max=2, vary=False),\n",
    "                   'gamma':dict(value=0.02, min=0, max=2, vary=True)}}]"
   ]
  },
  {
   "cell_type": "code",
   "execution_count": null,
   "metadata": {},
   "outputs": [],
   "source": []
  },
  {
   "cell_type": "markdown",
   "metadata": {},
   "source": [
    "### Computational scaling wrt the number of components"
   ]
  },
  {
   "cell_type": "code",
   "execution_count": null,
   "metadata": {},
   "outputs": [],
   "source": []
  },
  {
   "cell_type": "code",
   "execution_count": null,
   "metadata": {},
   "outputs": [],
   "source": []
  },
  {
   "cell_type": "code",
   "execution_count": null,
   "metadata": {},
   "outputs": [],
   "source": []
  }
 ],
 "metadata": {
  "kernelspec": {
   "display_name": "Python 3",
   "language": "python",
   "name": "python3"
  },
  "language_info": {
   "codemirror_mode": {
    "name": "ipython",
    "version": 3
   },
   "file_extension": ".py",
   "mimetype": "text/x-python",
   "name": "python",
   "nbconvert_exporter": "python",
   "pygments_lexer": "ipython3",
   "version": "3.6.4"
  }
 },
 "nbformat": 4,
 "nbformat_minor": 2
}
